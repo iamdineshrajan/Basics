{
 "cells": [
  {
   "cell_type": "code",
   "execution_count": 2,
   "metadata": {},
   "outputs": [
    {
     "name": "stdout",
     "output_type": "stream",
     "text": [
      "[ 1  2  3  4  5  6  7  8  9 10]\n",
      "int32\n",
      "1\n",
      "2\n",
      "6\n"
     ]
    }
   ],
   "source": [
    "#creating single dimensional array\n",
    "import numpy as np\n",
    "a=np.array([1,2,3,4,5,6,7,8,9,10])\n",
    "print(a)           #creating one dimensional array\n",
    "print(a.dtype)     #finding the data type of array\n",
    "print(a.ndim)      #finding the dimension of array\n",
    "print(a[1])        #accesing the second element of the array\n",
    "print(a[1]+a[3])   #accessing the second and fourth elements and adding "
   ]
  },
  {
   "cell_type": "code",
   "execution_count": 5,
   "metadata": {},
   "outputs": [
    {
     "name": "stdout",
     "output_type": "stream",
     "text": [
      "[2 3 4 5 6]\n"
     ]
    }
   ],
   "source": [
    "#print the index 1 to 5 \n",
    "print(a[1:6])"
   ]
  },
  {
   "cell_type": "code",
   "execution_count": 6,
   "metadata": {},
   "outputs": [
    {
     "name": "stdout",
     "output_type": "stream",
     "text": [
      "[1 2 3 4 5]\n"
     ]
    }
   ],
   "source": [
    "#print from beginning to index 4\n",
    "print(a[:5])"
   ]
  },
  {
   "cell_type": "code",
   "execution_count": 7,
   "metadata": {},
   "outputs": [
    {
     "name": "stdout",
     "output_type": "stream",
     "text": [
      "[2 3 4]\n"
     ]
    }
   ],
   "source": [
    "#print the value index3 from end to index one from end\n",
    "print(a[-9:-6])"
   ]
  },
  {
   "cell_type": "code",
   "execution_count": 15,
   "metadata": {},
   "outputs": [
    {
     "name": "stdout",
     "output_type": "stream",
     "text": [
      "[2]\n"
     ]
    }
   ],
   "source": [
    "#slicing index 1 to index 5 and printing second element\n",
    "print(a[1:6:5])"
   ]
  },
  {
   "cell_type": "code",
   "execution_count": 17,
   "metadata": {},
   "outputs": [
    {
     "name": "stdout",
     "output_type": "stream",
     "text": [
      "[[24 25 26 27]\n",
      " [54 55 57 59]]\n",
      "2\n"
     ]
    }
   ],
   "source": [
    "#creating 2 dim array\n",
    "b=np.array([[24,25,26,27],[54,55,57,59]])\n",
    "print(b)\n",
    "print(b.ndim)"
   ]
  },
  {
   "cell_type": "code",
   "execution_count": 19,
   "metadata": {},
   "outputs": [
    {
     "name": "stdout",
     "output_type": "stream",
     "text": [
      "[[24 25 26 27]]\n",
      "[[54 55 57 59]]\n"
     ]
    }
   ],
   "source": [
    "print(b[0:1])\n",
    "print(b[1:3])"
   ]
  },
  {
   "cell_type": "code",
   "execution_count": 25,
   "metadata": {},
   "outputs": [
    {
     "name": "stdout",
     "output_type": "stream",
     "text": [
      "2\n"
     ]
    }
   ],
   "source": [
    "print(a[1])   #accessing 2nd element in one dim"
   ]
  },
  {
   "cell_type": "code",
   "execution_count": 26,
   "metadata": {},
   "outputs": [
    {
     "name": "stdout",
     "output_type": "stream",
     "text": [
      "27\n"
     ]
    }
   ],
   "source": [
    "print(b[0,3])   #accessing 4th element in two dim"
   ]
  },
  {
   "cell_type": "code",
   "execution_count": 27,
   "metadata": {},
   "outputs": [
    {
     "name": "stdout",
     "output_type": "stream",
     "text": [
      "[[[125 130 135]\n",
      "  [140 145 150]]\n",
      "\n",
      " [[155 160 165]\n",
      "  [170 175 180]]]\n",
      "3\n"
     ]
    }
   ],
   "source": [
    "#creating three dimensions array\n",
    "c=np.array([[[125,130,135],[140,145,150]],[[155,160,165],[170,175,180]]])\n",
    "print(c)\n",
    "print(c.ndim)"
   ]
  },
  {
   "cell_type": "code",
   "execution_count": 30,
   "metadata": {},
   "outputs": [
    {
     "name": "stdout",
     "output_type": "stream",
     "text": [
      "[31 32 33 34 35 36 37 38 39 40 41 42]\n",
      "1\n"
     ]
    }
   ],
   "source": [
    "#converting 1D into 2D\n",
    "a=np.array([31,32,33,34,35,36,37,38,39,40,41,42])\n",
    "print(a)\n",
    "print(a.ndim)"
   ]
  },
  {
   "cell_type": "code",
   "execution_count": 31,
   "metadata": {},
   "outputs": [
    {
     "name": "stdout",
     "output_type": "stream",
     "text": [
      "[[31 32 33]\n",
      " [34 35 36]\n",
      " [37 38 39]\n",
      " [40 41 42]]\n",
      "2\n"
     ]
    }
   ],
   "source": [
    "a1=a.reshape(4,3)\n",
    "print(a1)\n",
    "print(a1.ndim)"
   ]
  },
  {
   "cell_type": "code",
   "execution_count": 33,
   "metadata": {},
   "outputs": [
    {
     "name": "stdout",
     "output_type": "stream",
     "text": [
      "[[[31 32 33]\n",
      "  [34 35 36]]\n",
      "\n",
      " [[37 38 39]\n",
      "  [40 41 42]]]\n",
      "3\n"
     ]
    }
   ],
   "source": [
    "#converting 1D into 3D\n",
    "a2=a.reshape(2,2,3)\n",
    "print(a2)\n",
    "print(a2.ndim)"
   ]
  },
  {
   "cell_type": "code",
   "execution_count": 34,
   "metadata": {},
   "outputs": [
    {
     "name": "stdout",
     "output_type": "stream",
     "text": [
      "[[24 25 26 27]\n",
      " [54 55 57 59]]\n"
     ]
    }
   ],
   "source": [
    "#horizontal stacking (column wise)\n",
    "print(b)"
   ]
  },
  {
   "cell_type": "code",
   "execution_count": 35,
   "metadata": {},
   "outputs": [
    {
     "name": "stdout",
     "output_type": "stream",
     "text": [
      "[[24 25 26 27 61 62 63]\n",
      " [54 55 57 59 64 65 66]]\n"
     ]
    }
   ],
   "source": [
    "b1=np.array([[61,62,63],[64,65,66]])\n",
    "b2=np.hstack((b,b1))\n",
    "print(b2)"
   ]
  },
  {
   "cell_type": "code",
   "execution_count": 39,
   "metadata": {},
   "outputs": [
    {
     "name": "stdout",
     "output_type": "stream",
     "text": [
      "[[24 25 26 27]\n",
      " [54 55 57 59]]\n",
      "[[61 62 63]\n",
      " [64 65 66]]\n",
      "[[24 25 26 27 61 62 63]\n",
      " [54 55 57 59 64 65 66]]\n"
     ]
    }
   ],
   "source": [
    "print(b)\n",
    "print(b1)\n",
    "print(b2)"
   ]
  },
  {
   "cell_type": "code",
   "execution_count": 43,
   "metadata": {},
   "outputs": [
    {
     "name": "stdout",
     "output_type": "stream",
     "text": [
      "[[1 2 3]\n",
      " [4 5 6]]\n"
     ]
    }
   ],
   "source": [
    "#vertical stacking (row wise)\n",
    "a=np.array([1,2,3])\n",
    "a1=np.array([4,5,6])\n",
    "a2=np.vstack((a,a1))\n",
    "print(a2)"
   ]
  },
  {
   "cell_type": "code",
   "execution_count": 46,
   "metadata": {},
   "outputs": [
    {
     "name": "stdout",
     "output_type": "stream",
     "text": [
      "[[[ 1  2  3]\n",
      "  [ 4  5  6]]\n",
      "\n",
      " [[ 7  8  9]\n",
      "  [10 11 12]]]\n",
      "----------\n",
      "[[[13 14 15]\n",
      "  [16 17 18]]\n",
      "\n",
      " [[19 20 21]\n",
      "  [22 23 24]]]\n",
      "----------\n",
      "[[[14 16 18]\n",
      "  [20 22 24]]\n",
      "\n",
      " [[26 28 30]\n",
      "  [32 34 36]]]\n"
     ]
    }
   ],
   "source": [
    "#arithmetic operations\n",
    "#adding\n",
    "x=np.array([[[1,2,3],[4,5,6]],[[7,8,9],[10,11,12]]])\n",
    "y=np.array([[[13,14,15],[16,17,18]],[[19,20,21],[22,23,24]]])\n",
    "print(x)\n",
    "print(\"-\"*10)\n",
    "print(y)\n",
    "print(\"-\"*10)\n",
    "print(x+y)"
   ]
  },
  {
   "cell_type": "code",
   "execution_count": 47,
   "metadata": {},
   "outputs": [
    {
     "name": "stdout",
     "output_type": "stream",
     "text": [
      "[[[12 12 12]\n",
      "  [12 12 12]]\n",
      "\n",
      " [[12 12 12]\n",
      "  [12 12 12]]]\n"
     ]
    }
   ],
   "source": [
    "#subracting\n",
    "print(y-x)"
   ]
  },
  {
   "cell_type": "code",
   "execution_count": 48,
   "metadata": {},
   "outputs": [
    {
     "name": "stdout",
     "output_type": "stream",
     "text": [
      "[[[ 13  28  45]\n",
      "  [ 64  85 108]]\n",
      "\n",
      " [[133 160 189]\n",
      "  [220 253 288]]]\n"
     ]
    }
   ],
   "source": [
    "#multiplying\n",
    "print(x*y)"
   ]
  },
  {
   "cell_type": "code",
   "execution_count": 49,
   "metadata": {},
   "outputs": [
    {
     "name": "stdout",
     "output_type": "stream",
     "text": [
      "[[[13.          7.          5.        ]\n",
      "  [ 4.          3.4         3.        ]]\n",
      "\n",
      " [[ 2.71428571  2.5         2.33333333]\n",
      "  [ 2.2         2.09090909  2.        ]]]\n"
     ]
    }
   ],
   "source": [
    "#division\n",
    "print(y/x)"
   ]
  },
  {
   "cell_type": "code",
   "execution_count": 50,
   "metadata": {},
   "outputs": [
    {
     "name": "stdout",
     "output_type": "stream",
     "text": [
      "[[[          1       16384    14348907]\n",
      "  [          0 -1564725563  1159987200]]\n",
      "\n",
      " [[  442181591           0  1914644777]\n",
      "  [-1304428544  -122979837           0]]]\n"
     ]
    }
   ],
   "source": [
    "print(x**y)"
   ]
  },
  {
   "cell_type": "code",
   "execution_count": 51,
   "metadata": {},
   "outputs": [
    {
     "name": "stdout",
     "output_type": "stream",
     "text": [
      "[[[ 1  2  3]\n",
      "  [ 4  5  6]]\n",
      "\n",
      " [[ 7  8  9]\n",
      "  [10 11 12]]]\n"
     ]
    }
   ],
   "source": [
    "#scalar arithmetic operations\n",
    "print(x)"
   ]
  },
  {
   "cell_type": "code",
   "execution_count": 53,
   "metadata": {},
   "outputs": [
    {
     "name": "stdout",
     "output_type": "stream",
     "text": [
      "[[[ 3  4  5]\n",
      "  [ 6  7  8]]\n",
      "\n",
      " [[ 9 10 11]\n",
      "  [12 13 14]]]\n",
      "--------------------\n",
      "[[[-1  0  1]\n",
      "  [ 2  3  4]]\n",
      "\n",
      " [[ 5  6  7]\n",
      "  [ 8  9 10]]]\n",
      "--------------------\n",
      "[[[ 2  4  6]\n",
      "  [ 8 10 12]]\n",
      "\n",
      " [[14 16 18]\n",
      "  [20 22 24]]]\n",
      "--------------------\n",
      "[[[0.5 1.  1.5]\n",
      "  [2.  2.5 3. ]]\n",
      "\n",
      " [[3.5 4.  4.5]\n",
      "  [5.  5.5 6. ]]]\n",
      "--------------------\n",
      "[[[  1   4   9]\n",
      "  [ 16  25  36]]\n",
      "\n",
      " [[ 49  64  81]\n",
      "  [100 121 144]]]\n"
     ]
    }
   ],
   "source": [
    "#adding\n",
    "print(x+2)\n",
    "print(\"-\"*20)\n",
    "#subtract\n",
    "print(x-2)\n",
    "print(\"-\"*20)\n",
    "#multiplication\n",
    "print(x*2)\n",
    "print(\"-\"*20)\n",
    "#division\n",
    "print(x/2)\n",
    "print(\"-\"*20)\n",
    "#power operations\n",
    "print(x**2)"
   ]
  },
  {
   "cell_type": "code",
   "execution_count": 54,
   "metadata": {},
   "outputs": [
    {
     "name": "stdout",
     "output_type": "stream",
     "text": [
      "[[[ 0.84147098  0.90929743  0.14112001]\n",
      "  [-0.7568025  -0.95892427 -0.2794155 ]]\n",
      "\n",
      " [[ 0.6569866   0.98935825  0.41211849]\n",
      "  [-0.54402111 -0.99999021 -0.53657292]]]\n",
      "--------------------\n",
      "[[[ 0.54030231 -0.41614684 -0.9899925 ]\n",
      "  [-0.65364362  0.28366219  0.96017029]]\n",
      "\n",
      " [[ 0.75390225 -0.14550003 -0.91113026]\n",
      "  [-0.83907153  0.0044257   0.84385396]]]\n",
      "--------------------\n",
      "[[[ 1.55740772e+00 -2.18503986e+00 -1.42546543e-01]\n",
      "  [ 1.15782128e+00 -3.38051501e+00 -2.91006191e-01]]\n",
      "\n",
      " [[ 8.71447983e-01 -6.79971146e+00 -4.52315659e-01]\n",
      "  [ 6.48360827e-01 -2.25950846e+02 -6.35859929e-01]]]\n",
      "--------------------\n",
      "----------------------------------------\n",
      "[[[1.57079633        nan        nan]\n",
      "  [       nan        nan        nan]]\n",
      "\n",
      " [[       nan        nan        nan]\n",
      "  [       nan        nan        nan]]]\n",
      "--------------------\n",
      "[[[ 0. nan nan]\n",
      "  [nan nan nan]]\n",
      "\n",
      " [[nan nan nan]\n",
      "  [nan nan nan]]]\n",
      "--------------------\n",
      "[[[0.78539816 1.10714872 1.24904577]\n",
      "  [1.32581766 1.37340077 1.40564765]]\n",
      "\n",
      " [[1.42889927 1.44644133 1.46013911]\n",
      "  [1.47112767 1.48013644 1.48765509]]]\n",
      "--------------------\n",
      "----------------------------------------\n",
      "[[[1.17520119e+00 3.62686041e+00 1.00178749e+01]\n",
      "  [2.72899172e+01 7.42032106e+01 2.01713157e+02]]\n",
      "\n",
      " [[5.48316123e+02 1.49047883e+03 4.05154190e+03]\n",
      "  [1.10132329e+04 2.99370708e+04 8.13773957e+04]]]\n",
      "--------------------\n",
      "[[[1.54308063e+00 3.76219569e+00 1.00676620e+01]\n",
      "  [2.73082328e+01 7.42099485e+01 2.01715636e+02]]\n",
      "\n",
      " [[5.48317035e+02 1.49047916e+03 4.05154203e+03]\n",
      "  [1.10132329e+04 2.99370709e+04 8.13773957e+04]]]\n",
      "--------------------\n",
      "[[[0.76159416 0.96402758 0.99505475]\n",
      "  [0.9993293  0.9999092  0.99998771]]\n",
      "\n",
      " [[0.99999834 0.99999977 0.99999997]\n",
      "  [1.         1.         1.        ]]]\n",
      "--------------------\n",
      "----------------------------------------\n",
      "[[[0.88137359 1.44363548 1.81844646]\n",
      "  [2.09471255 2.31243834 2.49177985]]\n",
      "\n",
      " [[2.64412076 2.77647228 2.89344399]\n",
      "  [2.99822295 3.0931022  3.17978544]]]\n",
      "--------------------\n",
      "[[[0.         1.3169579  1.76274717]\n",
      "  [2.06343707 2.29243167 2.47788873]]\n",
      "\n",
      " [[2.63391579 2.76865938 2.88727095]\n",
      "  [2.99322285 3.0889699  3.17631318]]]\n",
      "--------------------\n",
      "[[[inf nan nan]\n",
      "  [nan nan nan]]\n",
      "\n",
      " [[nan nan nan]\n",
      "  [nan nan nan]]]\n",
      "--------------------\n",
      "----------------------------------------\n",
      "[[[1.         1.41421356 1.73205081]\n",
      "  [2.         2.23606798 2.44948974]]\n",
      "\n",
      " [[2.64575131 2.82842712 3.        ]\n",
      "  [3.16227766 3.31662479 3.46410162]]]\n",
      "----------------------------------------\n",
      "[[[2.71828183e+00 7.38905610e+00 2.00855369e+01]\n",
      "  [5.45981500e+01 1.48413159e+02 4.03428793e+02]]\n",
      "\n",
      " [[1.09663316e+03 2.98095799e+03 8.10308393e+03]\n",
      "  [2.20264658e+04 5.98741417e+04 1.62754791e+05]]]\n",
      "----------------------------------------\n",
      "[[[0.         0.69314718 1.09861229]\n",
      "  [1.38629436 1.60943791 1.79175947]]\n",
      "\n",
      " [[1.94591015 2.07944154 2.19722458]\n",
      "  [2.30258509 2.39789527 2.48490665]]]\n",
      "--------------------\n",
      "[[[0.         1.         1.5849625 ]\n",
      "  [2.         2.32192809 2.5849625 ]]\n",
      "\n",
      " [[2.80735492 3.         3.169925  ]\n",
      "  [3.32192809 3.45943162 3.5849625 ]]]\n",
      "--------------------\n",
      "[[[0.         0.30103    0.47712125]\n",
      "  [0.60205999 0.69897    0.77815125]]\n",
      "\n",
      " [[0.84509804 0.90308999 0.95424251]\n",
      "  [1.         1.04139269 1.07918125]]]\n",
      "----------------------------------------\n"
     ]
    },
    {
     "name": "stderr",
     "output_type": "stream",
     "text": [
      "<ipython-input-54-f6b601053de0>:11: RuntimeWarning: invalid value encountered in arcsin\n",
      "  print(np.arcsin(x))\n",
      "<ipython-input-54-f6b601053de0>:13: RuntimeWarning: invalid value encountered in arccos\n",
      "  print(np.arccos(x))\n",
      "<ipython-input-54-f6b601053de0>:31: RuntimeWarning: divide by zero encountered in arctanh\n",
      "  print(np.arctanh(x))\n",
      "<ipython-input-54-f6b601053de0>:31: RuntimeWarning: invalid value encountered in arctanh\n",
      "  print(np.arctanh(x))\n"
     ]
    }
   ],
   "source": [
    "#elementary mathematical functions\n",
    "#trigonometric functions\n",
    "print(np.sin(x))\n",
    "print(\"-\"*20)\n",
    "print(np.cos(x))\n",
    "print(\"-\"*20)\n",
    "print(np.tan(x))\n",
    "print(\"-\"*20)\n",
    "print(\"-\"*40)\n",
    "#inverse trigonometric functions\n",
    "print(np.arcsin(x))\n",
    "print(\"-\"*20)\n",
    "print(np.arccos(x))\n",
    "print(\"-\"*20)\n",
    "print(np.arctan(x))\n",
    "print(\"-\"*20)\n",
    "print(\"-\"*40)\n",
    "#hyperbolic functions\n",
    "print(np.sinh(x))\n",
    "print(\"-\"*20)\n",
    "print(np.cosh(x))\n",
    "print(\"-\"*20)\n",
    "print(np.tanh(x))\n",
    "print(\"-\"*20)\n",
    "print(\"-\"*40)\n",
    "#inverse hyperbolic functions\n",
    "print(np.arcsinh(x))\n",
    "print(\"-\"*20)\n",
    "print(np.arccosh(x))\n",
    "print(\"-\"*20)\n",
    "print(np.arctanh(x))\n",
    "print(\"-\"*20)\n",
    "print(\"-\"*40)\n",
    "#square root\n",
    "print(np.sqrt(x))\n",
    "print(\"-\"*40)\n",
    "#exponential \n",
    "print(np.exp(x))\n",
    "print(\"-\"*40)\n",
    "#logarithms\n",
    "print(np.log(x))\n",
    "print(\"-\"*20)\n",
    "print(np.log2(x))\n",
    "print(\"-\"*20)\n",
    "print(np.log10(x))\n",
    "print(\"-\"*40)\n"
   ]
  },
  {
   "cell_type": "code",
   "execution_count": 2,
   "metadata": {},
   "outputs": [],
   "source": [
    "import numpy as np"
   ]
  },
  {
   "cell_type": "code",
   "execution_count": 4,
   "metadata": {},
   "outputs": [],
   "source": [
    "x=np.array([[[1,2,3],[4,5,6]],[[7,8,9],[10,11,12]]])"
   ]
  },
  {
   "cell_type": "code",
   "execution_count": 5,
   "metadata": {},
   "outputs": [
    {
     "name": "stdout",
     "output_type": "stream",
     "text": [
      "[[[ 0.84147098  0.90929743  0.14112001]\n",
      "  [-0.7568025  -0.95892427 -0.2794155 ]]\n",
      "\n",
      " [[ 0.6569866   0.98935825  0.41211849]\n",
      "  [-0.54402111 -0.99999021 -0.53657292]]]\n",
      "--------------------\n",
      "[[[ 0.54030231 -0.41614684 -0.9899925 ]\n",
      "  [-0.65364362  0.28366219  0.96017029]]\n",
      "\n",
      " [[ 0.75390225 -0.14550003 -0.91113026]\n",
      "  [-0.83907153  0.0044257   0.84385396]]]\n",
      "--------------------\n",
      "[[[ 1.55740772e+00 -2.18503986e+00 -1.42546543e-01]\n",
      "  [ 1.15782128e+00 -3.38051501e+00 -2.91006191e-01]]\n",
      "\n",
      " [[ 8.71447983e-01 -6.79971146e+00 -4.52315659e-01]\n",
      "  [ 6.48360827e-01 -2.25950846e+02 -6.35859929e-01]]]\n"
     ]
    }
   ],
   "source": [
    "#elementary mathematical functions\n",
    "#trigonometric functions\n",
    "print(np.sin(x))\n",
    "print(\"-\"*20)\n",
    "print(np.cos(x))\n",
    "print(\"-\"*20)\n",
    "print(np.tan(x))"
   ]
  },
  {
   "cell_type": "code",
   "execution_count": 6,
   "metadata": {},
   "outputs": [
    {
     "name": "stdout",
     "output_type": "stream",
     "text": [
      "[[[1.57079633        nan        nan]\n",
      "  [       nan        nan        nan]]\n",
      "\n",
      " [[       nan        nan        nan]\n",
      "  [       nan        nan        nan]]]\n",
      "--------------------\n",
      "[[[ 0. nan nan]\n",
      "  [nan nan nan]]\n",
      "\n",
      " [[nan nan nan]\n",
      "  [nan nan nan]]]\n",
      "--------------------\n",
      "[[[0.78539816 1.10714872 1.24904577]\n",
      "  [1.32581766 1.37340077 1.40564765]]\n",
      "\n",
      " [[1.42889927 1.44644133 1.46013911]\n",
      "  [1.47112767 1.48013644 1.48765509]]]\n"
     ]
    },
    {
     "name": "stderr",
     "output_type": "stream",
     "text": [
      "<ipython-input-6-c4545f34208f>:2: RuntimeWarning: invalid value encountered in arcsin\n",
      "  print(np.arcsin(x))\n",
      "<ipython-input-6-c4545f34208f>:4: RuntimeWarning: invalid value encountered in arccos\n",
      "  print(np.arccos(x))\n"
     ]
    }
   ],
   "source": [
    "#inverse trigonometric functions\n",
    "print(np.arcsin(x))\n",
    "print(\"-\"*20)\n",
    "print(np.arccos(x))\n",
    "print(\"-\"*20)\n",
    "print(np.arctan(x))"
   ]
  },
  {
   "cell_type": "code",
   "execution_count": 7,
   "metadata": {},
   "outputs": [
    {
     "name": "stdout",
     "output_type": "stream",
     "text": [
      "[[[1.17520119e+00 3.62686041e+00 1.00178749e+01]\n",
      "  [2.72899172e+01 7.42032106e+01 2.01713157e+02]]\n",
      "\n",
      " [[5.48316123e+02 1.49047883e+03 4.05154190e+03]\n",
      "  [1.10132329e+04 2.99370708e+04 8.13773957e+04]]]\n",
      "--------------------\n",
      "[[[1.54308063e+00 3.76219569e+00 1.00676620e+01]\n",
      "  [2.73082328e+01 7.42099485e+01 2.01715636e+02]]\n",
      "\n",
      " [[5.48317035e+02 1.49047916e+03 4.05154203e+03]\n",
      "  [1.10132329e+04 2.99370709e+04 8.13773957e+04]]]\n",
      "--------------------\n",
      "[[[0.76159416 0.96402758 0.99505475]\n",
      "  [0.9993293  0.9999092  0.99998771]]\n",
      "\n",
      " [[0.99999834 0.99999977 0.99999997]\n",
      "  [1.         1.         1.        ]]]\n"
     ]
    }
   ],
   "source": [
    "#hyperbolic functions\n",
    "print(np.sinh(x))\n",
    "print(\"-\"*20)\n",
    "print(np.cosh(x))\n",
    "print(\"-\"*20)\n",
    "print(np.tanh(x))"
   ]
  },
  {
   "cell_type": "code",
   "execution_count": 8,
   "metadata": {},
   "outputs": [
    {
     "name": "stdout",
     "output_type": "stream",
     "text": [
      "[[[0.88137359 1.44363548 1.81844646]\n",
      "  [2.09471255 2.31243834 2.49177985]]\n",
      "\n",
      " [[2.64412076 2.77647228 2.89344399]\n",
      "  [2.99822295 3.0931022  3.17978544]]]\n",
      "--------------------\n",
      "[[[0.         1.3169579  1.76274717]\n",
      "  [2.06343707 2.29243167 2.47788873]]\n",
      "\n",
      " [[2.63391579 2.76865938 2.88727095]\n",
      "  [2.99322285 3.0889699  3.17631318]]]\n",
      "--------------------\n",
      "[[[inf nan nan]\n",
      "  [nan nan nan]]\n",
      "\n",
      " [[nan nan nan]\n",
      "  [nan nan nan]]]\n"
     ]
    },
    {
     "name": "stderr",
     "output_type": "stream",
     "text": [
      "<ipython-input-8-a31d6815e24f>:6: RuntimeWarning: divide by zero encountered in arctanh\n",
      "  print(np.arctanh(x))\n",
      "<ipython-input-8-a31d6815e24f>:6: RuntimeWarning: invalid value encountered in arctanh\n",
      "  print(np.arctanh(x))\n"
     ]
    }
   ],
   "source": [
    "#inverse hyperbolic functions\n",
    "print(np.arcsinh(x))\n",
    "print(\"-\"*20)\n",
    "print(np.arccosh(x))\n",
    "print(\"-\"*20)\n",
    "print(np.arctanh(x))"
   ]
  },
  {
   "cell_type": "code",
   "execution_count": 9,
   "metadata": {},
   "outputs": [
    {
     "name": "stdout",
     "output_type": "stream",
     "text": [
      "[[[1.         1.41421356 1.73205081]\n",
      "  [2.         2.23606798 2.44948974]]\n",
      "\n",
      " [[2.64575131 2.82842712 3.        ]\n",
      "  [3.16227766 3.31662479 3.46410162]]]\n",
      "[[[2.71828183e+00 7.38905610e+00 2.00855369e+01]\n",
      "  [5.45981500e+01 1.48413159e+02 4.03428793e+02]]\n",
      "\n",
      " [[1.09663316e+03 2.98095799e+03 8.10308393e+03]\n",
      "  [2.20264658e+04 5.98741417e+04 1.62754791e+05]]]\n"
     ]
    }
   ],
   "source": [
    "#square root\n",
    "print(np.sqrt(x))\n",
    "#exponential \n",
    "print(np.exp(x))"
   ]
  },
  {
   "cell_type": "code",
   "execution_count": 10,
   "metadata": {},
   "outputs": [
    {
     "name": "stdout",
     "output_type": "stream",
     "text": [
      "[[[0.         0.69314718 1.09861229]\n",
      "  [1.38629436 1.60943791 1.79175947]]\n",
      "\n",
      " [[1.94591015 2.07944154 2.19722458]\n",
      "  [2.30258509 2.39789527 2.48490665]]]\n",
      "--------------------\n",
      "[[[0.         1.         1.5849625 ]\n",
      "  [2.         2.32192809 2.5849625 ]]\n",
      "\n",
      " [[2.80735492 3.         3.169925  ]\n",
      "  [3.32192809 3.45943162 3.5849625 ]]]\n",
      "--------------------\n",
      "[[[0.         0.30103    0.47712125]\n",
      "  [0.60205999 0.69897    0.77815125]]\n",
      "\n",
      " [[0.84509804 0.90308999 0.95424251]\n",
      "  [1.         1.04139269 1.07918125]]]\n"
     ]
    }
   ],
   "source": [
    "#logarithms\n",
    "print(np.log(x))\n",
    "print(\"-\"*20)\n",
    "print(np.log2(x))\n",
    "print(\"-\"*20)\n",
    "print(np.log10(x))"
   ]
  },
  {
   "cell_type": "code",
   "execution_count": 11,
   "metadata": {},
   "outputs": [
    {
     "name": "stdout",
     "output_type": "stream",
     "text": [
      "[[[ 1  2  3]\n",
      "  [ 4  5  6]]\n",
      "\n",
      " [[ 7  8  9]\n",
      "  [10 11 12]]]\n"
     ]
    }
   ],
   "source": [
    "print(x)"
   ]
  },
  {
   "cell_type": "code",
   "execution_count": 12,
   "metadata": {},
   "outputs": [
    {
     "name": "stdout",
     "output_type": "stream",
     "text": [
      "6.5\n",
      "3.452052529534663\n",
      "11.916666666666666\n",
      "78\n",
      "479001600\n"
     ]
    }
   ],
   "source": [
    "#NumPy Aggregate and Statistical operations\n",
    "print(np.mean(x))    #arithmetic mean\n",
    "print(np.std(x))     #standard deviation\n",
    "print(np.var(x))     #variance\n",
    "print(np.sum(x))     #sum\n",
    "print(np.prod(x))     #product\n"
   ]
  },
  {
   "cell_type": "code",
   "execution_count": 13,
   "metadata": {},
   "outputs": [
    {
     "name": "stdout",
     "output_type": "stream",
     "text": [
      "[ 1  3  6 10 15 21 28 36 45 55 66 78]\n",
      "[        1         2         6        24       120       720      5040\n",
      "     40320    362880   3628800  39916800 479001600]\n",
      "1\n",
      "12\n"
     ]
    }
   ],
   "source": [
    "print(np.cumsum(x)) #cumulative sum\n",
    "print(np.cumprod(x))  #cumulative product\n",
    "print(np.min(x))    #minimum of the array\n",
    "print(np.max(x))    #maximum of the array"
   ]
  },
  {
   "cell_type": "code",
   "execution_count": 14,
   "metadata": {},
   "outputs": [
    {
     "name": "stdout",
     "output_type": "stream",
     "text": [
      "0\n",
      "11\n",
      "True\n",
      "True\n"
     ]
    }
   ],
   "source": [
    "print(np.argmin(x))  #indices of the minimum values\n",
    "print(np.argmax(x))  #indices of the maximum values\n",
    "print(np.all(x))      #Test whether all array elements along a given axis evaluate to True.\n",
    "print(np.any(x))     #Test whether any array element along a given axis evaluates to True."
   ]
  },
  {
   "cell_type": "code",
   "execution_count": 16,
   "metadata": {},
   "outputs": [
    {
     "name": "stdout",
     "output_type": "stream",
     "text": [
      "[1]\n"
     ]
    }
   ],
   "source": [
    "#diagonal matrix with common values and full of zeros\n",
    "a=np.matrix([1,2,3,4])\n",
    "d=np.diag(a)\n",
    "print(d)"
   ]
  },
  {
   "cell_type": "code",
   "execution_count": 20,
   "metadata": {},
   "outputs": [
    {
     "name": "stdout",
     "output_type": "stream",
     "text": [
      "[[1 0 0 0 0 0]\n",
      " [0 2 0 0 0 0]\n",
      " [0 0 3 0 0 0]\n",
      " [0 0 0 4 0 0]\n",
      " [0 0 0 0 5 0]\n",
      " [0 0 0 0 0 6]]\n"
     ]
    }
   ],
   "source": [
    "#diagonal matrix with common values and full of zeros\n",
    "a=np.array([1,2,3,4,5,6])\n",
    "d=np.diag(a)\n",
    "print(d)"
   ]
  },
  {
   "cell_type": "code",
   "execution_count": 21,
   "metadata": {},
   "outputs": [
    {
     "name": "stdout",
     "output_type": "stream",
     "text": [
      "[[1. 0. 0.]\n",
      " [0. 1. 0.]\n",
      " [0. 0. 1.]]\n"
     ]
    }
   ],
   "source": [
    "#identity matrix\n",
    "a=np.identity(3)\n",
    "print(a)"
   ]
  },
  {
   "cell_type": "code",
   "execution_count": null,
   "metadata": {},
   "outputs": [],
   "source": []
  }
 ],
 "metadata": {
  "kernelspec": {
   "display_name": "Python 3",
   "language": "python",
   "name": "python3"
  },
  "language_info": {
   "codemirror_mode": {
    "name": "ipython",
    "version": 3
   },
   "file_extension": ".py",
   "mimetype": "text/x-python",
   "name": "python",
   "nbconvert_exporter": "python",
   "pygments_lexer": "ipython3",
   "version": "3.9.1"
  }
 },
 "nbformat": 4,
 "nbformat_minor": 4
}
