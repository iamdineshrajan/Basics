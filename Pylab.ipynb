{
 "cells": [
  {
   "cell_type": "code",
   "execution_count": 10,
   "metadata": {
    "scrolled": true
   },
   "outputs": [
    {
     "name": "stdout",
     "output_type": "stream",
     "text": [
      "[1, 2, 3, 4, 5]\n",
      "[1, 7, 2, 3, 4, 5]\n",
      "[1, 7, 2, 3, 4, 5, 11]\n",
      "[1, 7, 2, 3, 4, 5, 11, 'h', 'e', 'l', 'l', 'o']\n",
      "[1, 7, 2, 3, 5, 11, 'h', 'e', 'l', 'l', 'o']\n",
      "[1, 7, 2, 3, 5, 11, 'h', 'e', 'l', 'l']\n",
      "[]\n",
      "4\n",
      "[5, 6, 8]\n",
      "['a', 'b', 'c']\n",
      "[5, 6, 8, 'a', 'b', 'c']\n",
      "['a', 'b', 'c', (5, 6)]\n",
      "['a', 'c']\n",
      "92\n",
      "50\n"
     ]
    }
   ],
   "source": [
    "l1=[1,2,3,4,5]\n",
    "print(l1)\n",
    "#insert\n",
    "l1.insert(1,7)\n",
    "print(l1)\n",
    "#append\n",
    "l1.append(11)\n",
    "print(l1)\n",
    "#extend:\n",
    "l1.extend(\"hello\")\n",
    "print(l1)\n",
    "#remove:\n",
    "l1.remove(4)\n",
    "print(l1)\n",
    "#pop:\n",
    "l1.pop()\n",
    "print(l1)\n",
    "#clear:\n",
    "l1.clear()\n",
    "print(l1)\n",
    "#len:\n",
    "l2=[5,6,7,8]\n",
    "print(len(l2))\n",
    "#delete:\n",
    "del l2[2]\n",
    "print(l2)\n",
    "#adding two list:\n",
    "l3=['a','b','c']\n",
    "print(l3)\n",
    "l4=l2+l3\n",
    "print(l4)\n",
    "# Adding Tuples to the List:\n",
    "l3.append((5, 6))\n",
    "print(l3)\n",
    "#slicing list:\n",
    "list=l3[::2]\n",
    "print(list)\n",
    "#maximum:\n",
    "l5=[80,90,70,60,50,55,92]\n",
    "print(max(l5))\n",
    "#minimum:\n",
    "l5=[80,90,70,60,50,55,92]\n",
    "print(min(l5))"
   ]
  },
  {
   "cell_type": "code",
   "execution_count": 11,
   "metadata": {},
   "outputs": [
    {
     "name": "stdout",
     "output_type": "stream",
     "text": [
      "5\n",
      "9\n",
      "[2, 4, 6, 8, 10]\n",
      "30\n",
      "6.0\n",
      "NESTED LIST AND ITS OPERATIONS\n",
      "******************************\n",
      "Nested List A: [['Hello Good Morning'], ['have a great day']]\n",
      "Length: 2\n",
      "Inserted Value: [['Hello Good Morning'], ['have a great day'], ['Wishing you success']]\n",
      "Appended Value: [['Hello Good Morning'], ['have a great day'], ['Wishing you success'], ['warm greetings']]\n",
      "Popped value: ['warm greetings']\n"
     ]
    }
   ],
   "source": [
    "a=[[0,1,2,3,4],[0,3,5,7,9]]\n",
    "b=[[4,5,6,7,8],[3,6,7,5,2]] \n",
    "print(a[0][0]+b[0][1])\n",
    "print(a[1][1]+b[1][1])\n",
    "x=[[2,4,6,8,10],[1,3,5,7,9],[1,2,3,4,5]]\n",
    "temp=x[0] \n",
    "print(temp)\n",
    "total=sum(temp)\n",
    "print(total) \n",
    "avg=total/len(x[0])\n",
    "print(avg)\n",
    "print(\"NESTED LIST AND ITS OPERATIONS\")\n",
    "print(\"******************************\")\n",
    "a=[[\"Hello Good Morning\"],[\"have a great day\"]]\n",
    "print(\"Nested List A:\",a)\n",
    "len1=len(a)\n",
    "print(\"Length:\",len1)\n",
    "a.insert(2,[\"Wishing you success\"])\n",
    "print(\"Inserted Value:\",a)\n",
    "a.append([\"warm greetings\"]) \n",
    "print(\"Appended Value:\",a)\n",
    "print(\"Popped value:\",a.pop())"
   ]
  },
  {
   "cell_type": "code",
   "execution_count": 12,
   "metadata": {},
   "outputs": [
    {
     "name": "stdout",
     "output_type": "stream",
     "text": [
      "('sub', 'English')\n",
      "(0, 1, 2, 3, 4, 'sub', 'English')\n",
      "((0, 1, 2, 3, 4), ('sub', 'English'))\n",
      "mathmathmath\n",
      "athmathmath\n",
      "am\n",
      "th\n",
      "2\n",
      "[['Hello Good Morning'], ['have a great day'], ['Wishing you success']]\n",
      "['have a great day']\n",
      "['Hello Good Morning']\n"
     ]
    },
    {
     "data": {
      "text/plain": [
       "70"
      ]
     },
     "execution_count": 12,
     "metadata": {},
     "output_type": "execute_result"
    }
   ],
   "source": [
    "t1='sub','English' \n",
    "print(t1) \n",
    "t1=(0,1,2,3,4)\n",
    "\n",
    "#ADDING TWO TUPLES\n",
    "t2=('sub','English')\n",
    "print(t1+t2)\n",
    "t1=(0,1,2,3,4)\n",
    "t2=('sub','English') \n",
    "t3=(t1,t2)\n",
    "print(t3)\n",
    "t1=('math')*3 \n",
    "print(t1)\n",
    "\n",
    "#RANGE OF TUPLES t1=(0,1,2,3,4)\n",
    "print(t1[1:])\n",
    "print(t1[1::-1])\n",
    "print(t1[2:4])\n",
    "\n",
    "#LEN\n",
    "t1=('math','English') \n",
    "print(len(t1))\n",
    " \n",
    "#COUNT a=(1,2,3,5,6)\n",
    "a.count \n",
    "print(a)\n",
    "\n",
    "#MAXIMUM\n",
    "print(max(a))\n",
    "\n",
    "#MINIMUM\n",
    "print(min(a))\n",
    "\n",
    "#NESTED TUPLES\n",
    "b=((40,30,40,50),(40,20,30,50))\n",
    "c=((30,50,60,20),(30,60,80,20))\n",
    "b[0][0]+c[0][0]\n"
   ]
  },
  {
   "cell_type": "code",
   "execution_count": 13,
   "metadata": {},
   "outputs": [
    {
     "name": "stdout",
     "output_type": "stream",
     "text": [
      "{1: 'Hello', 2: 'Dude', 3: 'Pal'}\n",
      "3\n",
      "Hello\n",
      "Hello\n",
      "1\n",
      "2\n",
      "3\n",
      "Hello\n",
      "Dude\n",
      "Pal\n",
      "{1: 'Hello', 2: 'Dude', 3: 'Pal', 4: 'Boss'}\n",
      "{1: 'Hello', 3: 'Pal', 4: 'Boss'}\n",
      "{1: 'Hello', 3: 'Pal'}\n",
      "{}\n",
      "{}\n"
     ]
    }
   ],
   "source": [
    "d1={1:'Hello',2:'Dude',3:'Pal'} \n",
    "print(d1)\n",
    "#VALUES\n",
    "d1.keys()\n",
    "d1.values()\n",
    "d1.items() \n",
    "#LEN\n",
    "print(len(d1))\n",
    "#GET\n",
    "x=d1[1]\n",
    "print(x)\n",
    "y=d1.get(1)\n",
    "print(y)\n",
    "#FOR\n",
    "for x in d1: \n",
    "    print(x)\n",
    "for x in d1:\n",
    "    print(d1[x])\n",
    "d1[4]='Boss' \n",
    "print(d1)\n",
    "#POP\n",
    "d1.pop(2)\n",
    "print(d1)\n",
    " \n",
    "#POPITEM\n",
    "d1.popitem()\n",
    "print(d1)\n",
    "#CLEAR\n",
    "d1.clear()\n",
    "print(d1)\n",
    "#COPY\n",
    "mydict=d1.copy()\n",
    "print(d1)\n"
   ]
  },
  {
   "cell_type": "code",
   "execution_count": 14,
   "metadata": {},
   "outputs": [
    {
     "name": "stdout",
     "output_type": "stream",
     "text": [
      "Hello Murali\n",
      "This is Narayanasamy\n",
      "['This', 'is', 'Narayanasamy']\n",
      "1\n",
      "14\n",
      "This is narayanasamy\n",
      "THIS IS NARAYANASAMY\n",
      "this is narayanasamy\n",
      "12\n",
      "e\n",
      "helloworld\n"
     ]
    }
   ],
   "source": [
    "st=\"Hello Murali\" \n",
    "print(st)\n",
    "mystr='This is Narayanasamy'\n",
    "print(mystr)\n",
    "print(mystr.split())\n",
    "temp=mystr.split()\n",
    "print(mystr.count('n'))\n",
    "print(mystr.find('n'))\n",
    "print(mystr.capitalize())\n",
    "print(mystr.upper())\n",
    "print(mystr.lower())\n",
    "print(len(st))\n",
    "print(st[1:2])\n",
    "a=\"hello\"\n",
    "b=\"world\"\n",
    "c=a+b\n",
    "print(c)\n",
    "\n"
   ]
  },
  {
   "cell_type": "code",
   "execution_count": 15,
   "metadata": {},
   "outputs": [
    {
     "data": {
      "text/plain": [
       "1"
      ]
     },
     "execution_count": 15,
     "metadata": {},
     "output_type": "execute_result"
    }
   ],
   "source": [
    "mystr.count('N')"
   ]
  },
  {
   "cell_type": "code",
   "execution_count": 16,
   "metadata": {},
   "outputs": [
    {
     "name": "stdout",
     "output_type": "stream",
     "text": [
      "16.3\n",
      "21.3\n",
      "maximum is: 8\n",
      "maximum is: 97\n",
      "minimum is: 43\n",
      "s\n",
      "1\n",
      "6.8\n",
      "{1, 2, 3, 6.8, 's', 8.6, 'h'}\n",
      "{1, 2, 3, 6.8, 's', 'h'}\n",
      "{1, 2, 3, 6.8, 'h'}\n",
      "frozenset({2, 3, 4, 5.6, 's', 8.9, 'h'})\n"
     ]
    }
   ],
   "source": [
    "num=[2.3,8,7,5,-1,-2,-3]\n",
    "numsum=sum(num)\n",
    "print(numsum)\n",
    "numsum=sum(num,5)\n",
    "print(numsum)\n",
    "print('maximum is:',max(1.2,5.6,6.7,8))\n",
    "num=[51,53,43,64,83,97,89]\n",
    "print('maximum is:',max(num))\n",
    "print('minimum is:',min(num))\n",
    "My_Set={1,'s',6.8}\n",
    "dir(My_Set)\n",
    "len(My_Set)\n",
    "for x in My_Set:\n",
    "    print(x)\n",
    "My_Set.add(3)\n",
    "My_Set.update([1,8.6,2,'h'])\n",
    "print(My_Set)\n",
    "My_Set.remove(8.6)\n",
    "print(My_Set)\n",
    "My_Set.discard('s')\n",
    "print(My_Set)\n",
    "a={2,3,4,5.6, 8.9, 'h', 's'}\n",
    "b=frozenset(a)\n",
    "print(b)\n"
   ]
  },
  {
   "cell_type": "code",
   "execution_count": 21,
   "metadata": {},
   "outputs": [
    {
     "name": "stdout",
     "output_type": "stream",
     "text": [
      "enter a number: 7\n",
      "try again!, it is a odd number\n"
     ]
    }
   ],
   "source": [
    "x=int(input(\"enter a number: \"))\n",
    "if x % 2 ==0:\n",
    "    print(\"it is a even number\")\n",
    "else:\n",
    "    print(\"try again!, it is a odd number\")"
   ]
  },
  {
   "cell_type": "code",
   "execution_count": 22,
   "metadata": {},
   "outputs": [
    {
     "name": "stdout",
     "output_type": "stream",
     "text": [
      "Simple if.. else statement to find the odd and even nos\n",
      "**********************************************************************\n",
      "Enter the number:45\n",
      "Odd number\n",
      "Simple if.. else statement to display the greeting message\n",
      "**********************************************************************\n",
      "Enter the string:hi\n",
      "Not a greeting\n"
     ]
    }
   ],
   "source": [
    "print(\"Simple if.. else statement to find the odd and even nos\")\n",
    "print(\"*\"*70)\n",
    "a= int(input(\"Enter the number:\"))\n",
    "if(a%2==0):\n",
    "    print(\"It is an even number\") \n",
    "else:\n",
    "    print(\"Odd number\")\n",
    "\n",
    "print(\"Simple if.. else statement to display the greeting message\")\n",
    "print(\"*\"*70)\n",
    "a= str(input(\"Enter the string:\"))\n",
    "if a==\"hello\" or a==\"Hi\" or a==\"welcome\": \n",
    "    print(\"Greeting:\",a)\n",
    "else:\n",
    "    print(\"Not a greeting\")"
   ]
  },
  {
   "cell_type": "code",
   "execution_count": 23,
   "metadata": {},
   "outputs": [
    {
     "name": "stdout",
     "output_type": "stream",
     "text": [
      "PROGRAM FOR NESTED IF\n",
      "Enter a number:8\n",
      "THE NUMBER IS EVEN AND LESS THAN 10\n"
     ]
    }
   ],
   "source": [
    "print(\"PROGRAM FOR NESTED IF\")\n",
    "a=int(input(\"Enter a number:\")) \n",
    "if(a%2==0):\n",
    "    if(a<=10):\n",
    "        print(\"THE NUMBER IS EVEN AND LESS THAN 10\")\n",
    "    else:\n",
    "        print(\"THE NUMBER IS EVEN AND GREATER THAN 10\")\n",
    "else:\n",
    "    print(\"THE NUMBER IS ODD\")"
   ]
  },
  {
   "cell_type": "code",
   "execution_count": 24,
   "metadata": {},
   "outputs": [
    {
     "name": "stdout",
     "output_type": "stream",
     "text": [
      "****MATRIX ADDITION****\n",
      "[8, 10, 12]\n",
      "[5, 8, 11]\n"
     ]
    }
   ],
   "source": [
    "a=[[1,2,3],[4,5,6]]\n",
    "b=[[7,8,9],[1,3,5]]\n",
    "c=[[0,0,0],[0,0,0]]\n",
    "for i in range(len(a)):\n",
    "    for j in range(len(a[i])):\n",
    "        c[i][j]=a[i][j]+b[i][j]\n",
    "print(\"****MATRIX ADDITION****\")\n",
    "for i in c:\n",
    "    print(i)"
   ]
  },
  {
   "cell_type": "code",
   "execution_count": 25,
   "metadata": {},
   "outputs": [
    {
     "name": "stdout",
     "output_type": "stream",
     "text": [
      "Enter a number <20:10\n",
      "1\n",
      "2\n",
      "3\n",
      "4\n",
      "5\n",
      "6\n",
      "7\n",
      "8\n",
      "9\n",
      "10\n"
     ]
    }
   ],
   "source": [
    "n=int(input(\"Enter a number <20:\"))\n",
    "i=1\n",
    "while i<=n:\n",
    "    print(i)\n",
    "    i+=1"
   ]
  },
  {
   "cell_type": "code",
   "execution_count": 26,
   "metadata": {},
   "outputs": [
    {
     "name": "stdout",
     "output_type": "stream",
     "text": [
      "Enter a number <20:20\n",
      "1\n",
      "2\n",
      "3\n",
      "4\n",
      "5\n",
      "6\n",
      "7\n",
      "9\n",
      "10\n",
      "11\n",
      "12\n",
      "13\n",
      "14\n",
      "15\n",
      "16\n",
      "17\n",
      "18\n",
      "19\n",
      "20\n"
     ]
    }
   ],
   "source": [
    "n=int(input(\"Enter a number <20:\"))\n",
    "i=1\n",
    "while i<=n:\n",
    "    if i==8:\n",
    "        i+=1\n",
    "        continue\n",
    "    print(i)\n",
    "    i+=1"
   ]
  },
  {
   "cell_type": "code",
   "execution_count": 27,
   "metadata": {},
   "outputs": [
    {
     "name": "stdout",
     "output_type": "stream",
     "text": [
      "Enter a number <20:12\n",
      "1\n",
      "2\n",
      "3\n",
      "4\n",
      "5\n",
      "6\n",
      "7\n"
     ]
    }
   ],
   "source": [
    "n=int(input(\"Enter a number <20:\"))\n",
    "i=1\n",
    "while i<=n:\n",
    "    if i==8:\n",
    "        i+=1\n",
    "        break\n",
    "    print(i)\n",
    "    i+=1"
   ]
  },
  {
   "cell_type": "code",
   "execution_count": 28,
   "metadata": {},
   "outputs": [
    {
     "name": "stdout",
     "output_type": "stream",
     "text": [
      "11\n",
      "i love flowers\n",
      "None\n",
      "8\n",
      "16\n",
      "12\n",
      "6\n",
      "enter a value 3\n",
      "enter a b value 40\n",
      "43\n",
      "enter the x value12\n",
      "enter the y value13\n",
      "25\n"
     ]
    }
   ],
   "source": [
    "#varaible length function\n",
    "def sumn(a,b):\n",
    "    c=a+b\n",
    "    return c \n",
    "def my_fun():\n",
    "    print(\"i love flowers\")\n",
    "def square(x):\n",
    "    return x*x\n",
    "    print(square(x)) \n",
    "def cube(y):\n",
    "    return y*y*y\n",
    "    print(cube(y))\n",
    "def add3(a):\n",
    "    return a+a+a\n",
    "def mul(a,b):\n",
    "    return (a*b)\n",
    "def add2(a,b):\n",
    "    print(\"enter a value\",a)\n",
    "    print(\"enter a b value\",b)\n",
    "    return a+b\n",
    "def s(x,y):\n",
    "    x=int(input(\"enter the x value\"))\n",
    "    y=int(input(\"enter the y value\"))\n",
    "    z=x+y\n",
    "    return(z)\n",
    "print(sumn(5,6))\n",
    "print(my_fun())\n",
    "print(cube(2))\n",
    "print(square(4))\n",
    "print(add3(4))\n",
    "print(mul(2,3))\n",
    "print(add2(3,40))\n",
    "print(s(1,2))"
   ]
  },
  {
   "cell_type": "code",
   "execution_count": 2,
   "metadata": {},
   "outputs": [
    {
     "name": "stdout",
     "output_type": "stream",
     "text": [
      "110\n",
      "6\n",
      "19\n"
     ]
    }
   ],
   "source": [
    "x = lambda a: a + 50\n",
    "print(x(60))\n",
    "x = lambda a, b : a * b\n",
    "print(x(2, 3))\n",
    "x = lambda a, b, c : a + b + c\n",
    "print(x(7, 8, 4))\n",
    "def myfunc(n):\n",
    "    mydoubler = myfunc(3)\n",
    "    print(mydoubler(11))\n",
    "    return lambda a : a * n"
   ]
  },
  {
   "cell_type": "code",
   "execution_count": null,
   "metadata": {},
   "outputs": [],
   "source": [
    "print(myfunc(3))"
   ]
  },
  {
   "cell_type": "code",
   "execution_count": null,
   "metadata": {},
   "outputs": [],
   "source": []
  }
 ],
 "metadata": {
  "kernelspec": {
   "display_name": "Python 3",
   "language": "python",
   "name": "python3"
  },
  "language_info": {
   "codemirror_mode": {
    "name": "ipython",
    "version": 3
   },
   "file_extension": ".py",
   "mimetype": "text/x-python",
   "name": "python",
   "nbconvert_exporter": "python",
   "pygments_lexer": "ipython3",
   "version": "3.9.1"
  }
 },
 "nbformat": 4,
 "nbformat_minor": 4
}
