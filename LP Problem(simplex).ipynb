{
 "cells": [
  {
   "cell_type": "markdown",
   "metadata": {},
   "source": [
    "### Dinesh Rajan \n",
    "##### 20CSEG06"
   ]
  },
  {
   "cell_type": "markdown",
   "metadata": {},
   "source": [
    "# LINEAR PROGRAMMING PROBLEM(SIMPLEX)"
   ]
  },
  {
   "cell_type": "markdown",
   "metadata": {},
   "source": [
    "## A catering company is to make lunch for a business meeting. It will serve ham sandwiches, light ham sandwiches, and vegetarian sandwiches. A ham sandwich has 1 serving of vegetables, 4 slices of ham, 1 slice of cheese, and 2 slices of bread. A light ham sandwich has 2 serving of vegetables, 2 slices of ham, 1 slice of cheese and 2 slices of bread. A vegetarian sandwich has 3 servings of vegetables, 2 slices of cheese, and 2 slices of bread. A total of 10 bags of ham are available, each of which has 40 slices; 18 loaves of bread are available, each with 14 slices; 200 servings of vegetables are available, and 15 bags of cheese, each with 60 slices, are available. Given the resources, how many of each sandwich can be produced if the goal is to maximize the number of sandwiches?"
   ]
  },
  {
   "cell_type": "markdown",
   "metadata": {},
   "source": [
    "### Solution:\n",
    "We wish to maximize the number of sandwiches, so let:\n",
    "\n",
    "x = # of ham sandwiches\n",
    "\n",
    "y = # of light ham sandwiches\n",
    "\n",
    "z = # of vegetarian sandwiches\n",
    "\n",
    "The total number of sandwiches is given by\n",
    "\n",
    "S = x + y + z\n",
    "\n",
    "The constraints will be given by considering the total amount of ingredients available. That is, the company has a limited amount of ham, vegetables, cheese, and bread.\n",
    "\n",
    "In total, the company has\n",
    "10(40) = 400 slices of ham, 18(14) = 252 slices of bread, 200 servings of vegetables, and 15(60) = 900 slices of cheese available. At most, the company can use the above amounts.\n",
    "\n",
    "There are two sandwiches that use ham—the first requires 4 slices of ham and the second requires only 2, per sandwich. That is, 4x + 2y ≤ 400\n",
    "\n",
    "That is, the total number of slices of ham cannot exceed 400.\n",
    "\n",
    "Each sandwich requires 2 slices of bread so 2x + 2y + 2z ≤ 252\n",
    "\n",
    "The ham sandwiches have 1 and 2 servings of vegetables, respectively, and the vegetarian sandwich has 3 servings of vegetables. So, 1x + 2y + 3z ≤ 200\n",
    "\n",
    "Both ham sandwiches require one slice of cheese, and the vegetarian sandwich requires two slices of cheese, so, 1x + 1y + 2z ≤ 900   Below is the completed linear programming model for this example."
   ]
  },
  {
   "cell_type": "markdown",
   "metadata": {},
   "source": [
    "Maximize: S = x + y + z\n",
    "Subject To: 4x + 2y ≤ 400 , \n",
    "            2x + 2y + 2z ≤ 252 , \n",
    "             x + 2y + 3z ≤ 200 , \n",
    "            1x + 1y + 2z ≤ 900 , \n",
    "             x, y, z ≥ 0"
   ]
  },
  {
   "cell_type": "markdown",
   "metadata": {},
   "source": [
    "These constraints satisfy the requirements for the simplex method, so we proceed.\n",
    "\n",
    "Incorporating slack variables, we get:\n",
    "\n",
    "4x + 2y + 0z + s1 = 400\n",
    "\n",
    "2x + 2y + 2z + s2 = 252\n",
    "\n",
    "x + 2y + 3z + s3 = 200\n",
    "\n",
    "x + y + 2z + s4 = 900\n",
    "\n",
    "–x – y – z + S = 0"
   ]
  },
  {
   "cell_type": "markdown",
   "metadata": {},
   "source": [
    "### THE PROBLEM IS SOLVED USING PYTHON "
   ]
  },
  {
   "cell_type": "markdown",
   "metadata": {},
   "source": [
    "### Using SCIPY"
   ]
  },
  {
   "cell_type": "code",
   "execution_count": 1,
   "metadata": {},
   "outputs": [],
   "source": [
    "from scipy.optimize import linprog"
   ]
  },
  {
   "cell_type": "code",
   "execution_count": 2,
   "metadata": {},
   "outputs": [],
   "source": [
    "obj=[1,1,1]\n",
    "lhs_ineq=[[4,2,0],[2,2,2],[1,2,3],[1,1,2]]\n",
    "rhs_ineq=[400,252,200,900]\n",
    "bnd=[(0,float(\"inf\")),(0,float(\"inf\")),(0,float(\"inf\"))]"
   ]
  },
  {
   "cell_type": "code",
   "execution_count": 3,
   "metadata": {},
   "outputs": [],
   "source": [
    "opt = linprog(c=obj, A_ub=lhs_ineq,b_ub=rhs_ineq,bounds=bnd,method=\"simplex\")"
   ]
  },
  {
   "cell_type": "code",
   "execution_count": 4,
   "metadata": {},
   "outputs": [
    {
     "data": {
      "text/plain": [
       "     con: array([], dtype=float64)\n",
       "     fun: 0.0\n",
       " message: 'Optimization terminated successfully.'\n",
       "     nit: 6\n",
       "   slack: array([400., 252., 200., 900.])\n",
       "  status: 0\n",
       " success: True\n",
       "       x: array([0., 0., 0.])"
      ]
     },
     "execution_count": 4,
     "metadata": {},
     "output_type": "execute_result"
    }
   ],
   "source": [
    "opt"
   ]
  },
  {
   "cell_type": "code",
   "execution_count": 5,
   "metadata": {},
   "outputs": [
    {
     "data": {
      "text/plain": [
       "0.0"
      ]
     },
     "execution_count": 5,
     "metadata": {},
     "output_type": "execute_result"
    }
   ],
   "source": [
    "opt.fun"
   ]
  },
  {
   "cell_type": "code",
   "execution_count": 6,
   "metadata": {},
   "outputs": [],
   "source": [
    "opt = linprog(c=obj, A_ub=lhs_ineq,b_ub=rhs_ineq,bounds=bnd,method=\"revised simplex\")"
   ]
  },
  {
   "cell_type": "code",
   "execution_count": 7,
   "metadata": {},
   "outputs": [
    {
     "data": {
      "text/plain": [
       "     con: array([], dtype=float64)\n",
       "     fun: 0.0\n",
       " message: 'Optimization terminated successfully.'\n",
       "     nit: 0\n",
       "   slack: array([400., 252., 200., 900.])\n",
       "  status: 0\n",
       " success: True\n",
       "       x: array([0., 0., 0.])"
      ]
     },
     "execution_count": 7,
     "metadata": {},
     "output_type": "execute_result"
    }
   ],
   "source": [
    "opt"
   ]
  },
  {
   "cell_type": "markdown",
   "metadata": {},
   "source": [
    "## Using PuLP package"
   ]
  },
  {
   "cell_type": "code",
   "execution_count": 8,
   "metadata": {},
   "outputs": [],
   "source": [
    "from pulp import LpMaximize, LpProblem, LpStatus, lpSum, LpVariable"
   ]
  },
  {
   "cell_type": "code",
   "execution_count": 9,
   "metadata": {},
   "outputs": [
    {
     "name": "stdout",
     "output_type": "stream",
     "text": [
      "status: 1, Optimal\n",
      "objective: 126.0\n",
      "x1: 52.0\n",
      "x2: 74.0\n",
      "x3: 0.0\n",
      "ham: -274.0\n",
      "vegetables: 0.0\n",
      "cheese: 0.0\n",
      "bread: -774.0\n"
     ]
    }
   ],
   "source": [
    "# define the model\n",
    "model = LpProblem(name=\"resource-allocation\", sense=LpMaximize)\n",
    "\n",
    "#define the variable\n",
    "x = {i: LpVariable(name=f\"x{i}\", lowBound=0) for i in range(1, 4)}\n",
    "\n",
    "# Add constraints\n",
    "model += (lpSum(x.values()) <= 400,\"ham\")\n",
    "model += (2 * x[1] + 2 * x[2] + 2 * x[3] <= 252,\"vegetables\")\n",
    "model += (x[1] + 2 * x[2] + 3 * x[3] <= 200,\"cheese\")\n",
    "model += (x[1] + x[2]+ 2 * x[3] <= 900,\"bread\")\n",
    "\n",
    "# Set the objective\n",
    "model +=  x[1] + x[2] + x[3]\n",
    "\n",
    "# Solve the optimization problem\n",
    "status = model.solve()\n",
    "\n",
    "# Get the results\n",
    "print(f\"status: {model.status}, {LpStatus[model.status]}\")\n",
    "print(f\"objective: {model.objective.value()}\")\n",
    "\n",
    "for var in x.values():\n",
    "    print(f\"{var.name}: {var.value()}\")\n",
    "\n",
    "for name, constraint in model.constraints.items():\n",
    "    print(f\"{name}: {constraint.value()}\")"
   ]
  },
  {
   "cell_type": "markdown",
   "metadata": {},
   "source": [
    "We now have the optimal solution\n",
    "\n",
    "x=100 (basic variable in row 1) , \n",
    "y=0 (nonbasic variable) , \n",
    "z=26 (basic variable row 2) , \n",
    "s1=0 (nonbasic variable) , \n",
    "s2=0 (nonbasic variable) , \n",
    "s3=22 (basic variable row 3) , \n",
    "s4=748 (basic variable row 4) , \n",
    "S=126 (basic variable row 5) , \n",
    "Of course we are really just interested in: x=100, y=0, z=26, S=126\n",
    "\n",
    "### We find that 100 ham sandwiches, 26 vegetarian sandwiches, and 0 light ham sandwiches should be made to maximize the total number of sandwiches made."
   ]
  }
 ],
 "metadata": {
  "kernelspec": {
   "display_name": "Python 3",
   "language": "python",
   "name": "python3"
  },
  "language_info": {
   "codemirror_mode": {
    "name": "ipython",
    "version": 3
   },
   "file_extension": ".py",
   "mimetype": "text/x-python",
   "name": "python",
   "nbconvert_exporter": "python",
   "pygments_lexer": "ipython3",
   "version": "3.8.8"
  }
 },
 "nbformat": 4,
 "nbformat_minor": 4
}
